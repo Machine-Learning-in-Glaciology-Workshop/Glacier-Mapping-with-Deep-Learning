{
 "cells": [
  {
   "cell_type": "code",
   "execution_count": 12,
   "id": "a2e06b6f",
   "metadata": {},
   "outputs": [],
   "source": [
    "import sklearn\n",
    "import h5py\n",
    "import os\n",
    "import numpy as np\n",
    "from scipy import signal\n",
    "from sklearn import ensemble\n",
    "import matplotlib.pyplot as plt\n",
    "from tqdm import tqdm\n",
    "import pickle"
   ]
  },
  {
   "cell_type": "code",
   "execution_count": 13,
   "id": "d6fdfe59",
   "metadata": {},
   "outputs": [],
   "source": [
    "TRAIN_DATASET_PATH = os.path.join(\"<path/to/data/folder>\", \"train_dataset.hdf5\")\n",
    "VAL_DATASET_PATH = os.path.join(\"<path/to/data/folder>\", \"val_dataset.hdf5\")\n",
    "TEST_DATASET_PATH = os.path.join(\"<path/to/data/folder>\", \"test_dataset.hdf5\")\n",
    "MODEL_PATH = \"random_forest\""
   ]
  },
  {
   "cell_type": "code",
   "execution_count": null,
   "id": "e3c92875",
   "metadata": {},
   "outputs": [],
   "source": [
    "SAMPLES_PER_TILE = 1000\n",
    "BANDS_COUNT = 10"
   ]
  },
  {
   "cell_type": "code",
   "execution_count": 18,
   "id": "7690aef4",
   "metadata": {},
   "outputs": [],
   "source": [
    "train_dataset = h5py.File(TRAIN_DATASET_PATH, \"r\")\n",
    "val_dataset = h5py.File(VAL_DATASET_PATH, \"r\")"
   ]
  },
  {
   "cell_type": "code",
   "execution_count": 19,
   "id": "10728646",
   "metadata": {},
   "outputs": [],
   "source": [
    "def extract_features_and_labels(datasets):\n",
    "    xs, ys = [], []\n",
    "    for dataset in datasets:\n",
    "        groups = dataset.groups\n",
    "        with tqdm(total=len(groups)) as pbar:\n",
    "            for tile in groups:\n",
    "                tile_data = dataset[tile]\n",
    "                optical = tile_data[\"optical\"]\n",
    "\n",
    "                height, width, _ = optical.shape\n",
    "                stack = np.zeros((height, width, BANDS_COUNT + 1))\n",
    "                stack[:, :, 0:6] = optical\n",
    "\n",
    "                dem = tile_data[\"dem\"]\n",
    "                stack[:, :, 6] = dem[:, :, 0]\n",
    "                slope = tile_data[\"slope\"]\n",
    "                stack[:, :, 7] = slope[:, :, 0]\n",
    "\n",
    "                dem = tile_data[\"dem\"]\n",
    "                stack[:, :, 6] = dem[:, :, 0]\n",
    "                slope = tile_data[\"slope\"]\n",
    "                stack[:, :, 7] = slope[:, :, 0]\n",
    "\n",
    "                groundtruth = tile_data[\"groundtruth\"]\n",
    "                stack[:, :, -1] = groundtruth[:, :, 0]\n",
    "\n",
    "                stack = stack.reshape((height * width, BANDS_COUNT + 1))\n",
    "                sample_idxs = np.random.choice(stack.shape[0], size=SAMPLES_PER_TILE, replace=False)\n",
    "                samples = stack[sample_idxs]\n",
    "\n",
    "                xs.extend(samples[:, :-1])\n",
    "                ys.extend(samples[:, -1])\n",
    "                \n",
    "                pbar.update(1)\n",
    "\n",
    "        return xs, ys"
   ]
  },
  {
   "cell_type": "code",
   "execution_count": 9,
   "id": "286260fc",
   "metadata": {},
   "outputs": [
    {
     "name": "stderr",
     "output_type": "stream",
     "text": [
      "100%|███████████████████████████████████████████████████████████████| 237/237 [06:58<00:00,  1.76s/it]\n"
     ]
    }
   ],
   "source": [
    "# Here, we treat train and val subsets equally as we do not perform any kind of early stopping or hyperparameter optimization\n",
    "train_x, train_y = extract_features_and_labels([train_dataset, val_dataset])"
   ]
  },
  {
   "cell_type": "code",
   "execution_count": 10,
   "id": "b15c3498",
   "metadata": {},
   "outputs": [],
   "source": [
    "classifier = ensemble.RandomForestClassifier(\n",
    "    n_jobs=-1, \n",
    "    verbose=11\n",
    ")"
   ]
  },
  {
   "cell_type": "code",
   "execution_count": 11,
   "id": "861f1ef5",
   "metadata": {},
   "outputs": [
    {
     "name": "stderr",
     "output_type": "stream",
     "text": [
      "[Parallel(n_jobs=-1)]: Using backend ThreadingBackend with 16 concurrent workers.\n",
      "[Parallel(n_jobs=-1)]: Done  18 tasks      | elapsed:  9.8min\n",
      "[Parallel(n_jobs=-1)]: Done 100 out of 100 | elapsed: 33.5min finished\n"
     ]
    },
    {
     "data": {
      "text/plain": [
       "RandomForestClassifier(n_jobs=-1, verbose=1)"
      ]
     },
     "execution_count": 11,
     "metadata": {},
     "output_type": "execute_result"
    }
   ],
   "source": [
    "classifier.fit(train_x, train_y)"
   ]
  },
  {
   "cell_type": "code",
   "execution_count": 12,
   "id": "cdc44530",
   "metadata": {},
   "outputs": [
    {
     "name": "stderr",
     "output_type": "stream",
     "text": [
      "[Parallel(n_jobs=16)]: Using backend ThreadingBackend with 16 concurrent workers.\n",
      "[Parallel(n_jobs=16)]: Done  18 tasks      | elapsed:   14.4s\n",
      "[Parallel(n_jobs=16)]: Done 100 out of 100 | elapsed:   49.4s finished\n"
     ]
    },
    {
     "data": {
      "text/plain": [
       "0.9999973839662447"
      ]
     },
     "execution_count": 12,
     "metadata": {},
     "output_type": "execute_result"
    }
   ],
   "source": [
    "classifier.score(train_x, train_y)"
   ]
  },
  {
   "cell_type": "code",
   "execution_count": 13,
   "id": "bbe79d75",
   "metadata": {},
   "outputs": [],
   "source": [
    "pickle.dump(classifier, open(MODEL_PATH, \"wb\"))"
   ]
  },
  {
   "cell_type": "code",
   "execution_count": 20,
   "id": "7b093b9a",
   "metadata": {},
   "outputs": [],
   "source": [
    "classifier = pickle.load(open(MODEL_PATH, \"rb\"))"
   ]
  },
  {
   "cell_type": "markdown",
   "id": "ebf527e4",
   "metadata": {},
   "source": [
    "TODO: prediction on test, performance evaluation, comments"
   ]
  },
  {
   "cell_type": "code",
   "execution_count": 10,
   "id": "10775bcd",
   "metadata": {},
   "outputs": [],
   "source": [
    "def test_predict(classifier, dataset, tiles, mode=MODE):\n",
    "    feature_idxs = {\n",
    "        0: [0, 1, 2, 3, 4, 5],\n",
    "        1: [0, 1, 2, 3, 4, 5, 6, 7],\n",
    "        2: [0, 1, 2, 3, 4, 5, 6, 7, 8, 9, 10, 11, 12, 13, 14, 15]\n",
    "    }[mode]\n",
    "    feature_count = {\n",
    "        0: 6,\n",
    "        1: 8,\n",
    "        2: 16\n",
    "    }[mode]\n",
    "    \n",
    "    xs, ys = [], []\n",
    "    with tqdm(total=len(tiles)) as pbar:\n",
    "        for tile in tiles:\n",
    "            tile_data = dataset[tile]\n",
    "            optical = tile_data[\"optical\"]\n",
    "\n",
    "            height, width, _ = optical.shape\n",
    "            stack = np.zeros((height, width, feature_count))\n",
    "            stack[:, :, 0:6] = optical\n",
    "\n",
    "            if mode > 0:\n",
    "                dem = tile_data[\"dem\"]\n",
    "                stack[:, :, 6] = dem[:, :, 0]\n",
    "                slope = tile_data[\"slope\"]\n",
    "                stack[:, :, 7] = slope[:, :, 0]\n",
    "\n",
    "            if mode > 1:\n",
    "                sar_asc = np.array(tile_data[\"sar_asc\"])\n",
    "                sar_desc = np.array(tile_data[\"sar_desc\"])\n",
    "\n",
    "                vv1, vh1, vv2, vh2 = calc_intensity(sar_asc)\n",
    "                vv, vh = (vv1 + vv2) / 2, (vh1 + vh2) / 2\n",
    "                stack[:, :, 8] = vv\n",
    "                stack[:, :, 9] = vh\n",
    "\n",
    "                vv1, vh1, vv2, vh2 = calc_intensity(sar_desc)\n",
    "                vv, vh = (vv1 + vv2) / 2, (vh1 + vh2) / 2\n",
    "                stack[:, :, 10] = vv\n",
    "                stack[:, :, 11] = vh\n",
    "\n",
    "                stack[:, :, 12] = calc_coherence(sar_asc, mode=0)\n",
    "                stack[:, :, 13] = calc_coherence(sar_asc, mode=1)\n",
    "                stack[:, :, 14] = calc_coherence(sar_desc, mode=0)\n",
    "                stack[:, :, 15] = calc_coherence(sar_desc, mode=1)\n",
    "\n",
    "                # coverage = calc_sar_mask(sar_asc, sar_desc)\n",
    "                # stack[coverage] = 0\n",
    "\n",
    "            stack = np.nan_to_num(stack)\n",
    "            stack = stack.reshape((height * width, feature_count))\n",
    "            \n",
    "            prediction = classifier.predict(stack)\n",
    "            prediction = prediction.reshape((height, width))\n",
    "            \n",
    "            with h5py.File(os.path.join(\"predictions\", \"predictions.hdf5\"), \"a\") as predictions:\n",
    "                group = predictions[tile]\n",
    "                group.create_dataset(f\"randomforest{MODE}\", data=prediction)\n",
    "            \n",
    "            pbar.update(1)"
   ]
  },
  {
   "cell_type": "code",
   "execution_count": 11,
   "id": "94ccb052",
   "metadata": {},
   "outputs": [
    {
     "name": "stderr",
     "output_type": "stream",
     "text": [
      "  0%|                                                                          | 0/60 [00:00<?, ?it/s][Parallel(n_jobs=16)]: Using backend ThreadingBackend with 16 concurrent workers.\n",
      "[Parallel(n_jobs=16)]: Done  18 tasks      | elapsed:    0.4s\n",
      "[Parallel(n_jobs=16)]: Done 100 out of 100 | elapsed:    1.3s finished\n",
      "  2%|█                                                                 | 1/60 [00:03<03:04,  3.13s/it][Parallel(n_jobs=16)]: Using backend ThreadingBackend with 16 concurrent workers.\n",
      "[Parallel(n_jobs=16)]: Done  18 tasks      | elapsed:    0.5s\n",
      "[Parallel(n_jobs=16)]: Done 100 out of 100 | elapsed:    1.9s finished\n",
      "  3%|██▏                                                               | 2/60 [00:06<03:21,  3.48s/it][Parallel(n_jobs=16)]: Using backend ThreadingBackend with 16 concurrent workers.\n",
      "[Parallel(n_jobs=16)]: Done  18 tasks      | elapsed:    0.4s\n",
      "[Parallel(n_jobs=16)]: Done 100 out of 100 | elapsed:    1.2s finished\n",
      "  5%|███▎                                                              | 3/60 [00:09<03:07,  3.30s/it][Parallel(n_jobs=16)]: Using backend ThreadingBackend with 16 concurrent workers.\n",
      "[Parallel(n_jobs=16)]: Done  18 tasks      | elapsed:    0.4s\n",
      "[Parallel(n_jobs=16)]: Done 100 out of 100 | elapsed:    1.3s finished\n",
      "  7%|████▍                                                             | 4/60 [00:13<03:00,  3.23s/it][Parallel(n_jobs=16)]: Using backend ThreadingBackend with 16 concurrent workers.\n",
      "[Parallel(n_jobs=16)]: Done  18 tasks      | elapsed:    0.4s\n",
      "[Parallel(n_jobs=16)]: Done 100 out of 100 | elapsed:    1.5s finished\n",
      "  8%|█████▌                                                            | 5/60 [00:16<02:59,  3.26s/it][Parallel(n_jobs=16)]: Using backend ThreadingBackend with 16 concurrent workers.\n",
      "[Parallel(n_jobs=16)]: Done  18 tasks      | elapsed:    0.4s\n",
      "[Parallel(n_jobs=16)]: Done 100 out of 100 | elapsed:    1.3s finished\n",
      " 10%|██████▌                                                           | 6/60 [00:19<02:53,  3.22s/it][Parallel(n_jobs=16)]: Using backend ThreadingBackend with 16 concurrent workers.\n",
      "[Parallel(n_jobs=16)]: Done  18 tasks      | elapsed:    0.4s\n",
      "[Parallel(n_jobs=16)]: Done 100 out of 100 | elapsed:    1.2s finished\n",
      " 12%|███████▋                                                          | 7/60 [00:22<02:46,  3.15s/it][Parallel(n_jobs=16)]: Using backend ThreadingBackend with 16 concurrent workers.\n",
      "[Parallel(n_jobs=16)]: Done  18 tasks      | elapsed:    0.5s\n",
      "[Parallel(n_jobs=16)]: Done 100 out of 100 | elapsed:    1.7s finished\n",
      " 13%|████████▊                                                         | 8/60 [00:26<02:51,  3.30s/it][Parallel(n_jobs=16)]: Using backend ThreadingBackend with 16 concurrent workers.\n",
      "[Parallel(n_jobs=16)]: Done  18 tasks      | elapsed:    0.4s\n",
      "[Parallel(n_jobs=16)]: Done 100 out of 100 | elapsed:    1.3s finished\n",
      " 15%|█████████▉                                                        | 9/60 [00:29<02:45,  3.25s/it][Parallel(n_jobs=16)]: Using backend ThreadingBackend with 16 concurrent workers.\n",
      "[Parallel(n_jobs=16)]: Done  18 tasks      | elapsed:    0.4s\n",
      "[Parallel(n_jobs=16)]: Done 100 out of 100 | elapsed:    1.3s finished\n",
      " 17%|██████████▊                                                      | 10/60 [00:32<02:41,  3.22s/it][Parallel(n_jobs=16)]: Using backend ThreadingBackend with 16 concurrent workers.\n",
      "[Parallel(n_jobs=16)]: Done  18 tasks      | elapsed:    0.6s\n",
      "[Parallel(n_jobs=16)]: Done 100 out of 100 | elapsed:    2.2s finished\n",
      " 18%|███████████▉                                                     | 11/60 [00:36<02:50,  3.49s/it][Parallel(n_jobs=16)]: Using backend ThreadingBackend with 16 concurrent workers.\n",
      "[Parallel(n_jobs=16)]: Done  18 tasks      | elapsed:    0.3s\n",
      "[Parallel(n_jobs=16)]: Done 100 out of 100 | elapsed:    0.9s finished\n",
      " 20%|█████████████                                                    | 12/60 [00:39<02:36,  3.27s/it][Parallel(n_jobs=16)]: Using backend ThreadingBackend with 16 concurrent workers.\n",
      "[Parallel(n_jobs=16)]: Done  18 tasks      | elapsed:    0.7s\n",
      "[Parallel(n_jobs=16)]: Done 100 out of 100 | elapsed:    2.5s finished\n",
      " 22%|██████████████                                                   | 13/60 [00:43<02:49,  3.61s/it][Parallel(n_jobs=16)]: Using backend ThreadingBackend with 16 concurrent workers.\n",
      "[Parallel(n_jobs=16)]: Done  18 tasks      | elapsed:    0.5s\n",
      "[Parallel(n_jobs=16)]: Done 100 out of 100 | elapsed:    1.9s finished\n",
      " 23%|███████████████▏                                                 | 14/60 [00:47<02:47,  3.65s/it][Parallel(n_jobs=16)]: Using backend ThreadingBackend with 16 concurrent workers.\n",
      "[Parallel(n_jobs=16)]: Done  18 tasks      | elapsed:    0.5s\n",
      "[Parallel(n_jobs=16)]: Done 100 out of 100 | elapsed:    1.8s finished\n",
      " 25%|████████████████▎                                                | 15/60 [00:51<02:44,  3.65s/it][Parallel(n_jobs=16)]: Using backend ThreadingBackend with 16 concurrent workers.\n",
      "[Parallel(n_jobs=16)]: Done  18 tasks      | elapsed:    0.4s\n",
      "[Parallel(n_jobs=16)]: Done 100 out of 100 | elapsed:    1.3s finished\n",
      " 27%|█████████████████▎                                               | 16/60 [00:54<02:33,  3.49s/it][Parallel(n_jobs=16)]: Using backend ThreadingBackend with 16 concurrent workers.\n",
      "[Parallel(n_jobs=16)]: Done  18 tasks      | elapsed:    0.2s\n",
      "[Parallel(n_jobs=16)]: Done 100 out of 100 | elapsed:    0.7s finished\n",
      " 28%|██████████████████▍                                              | 17/60 [00:56<02:11,  3.06s/it][Parallel(n_jobs=16)]: Using backend ThreadingBackend with 16 concurrent workers.\n",
      "[Parallel(n_jobs=16)]: Done  18 tasks      | elapsed:    0.3s\n",
      "[Parallel(n_jobs=16)]: Done 100 out of 100 | elapsed:    0.9s finished\n",
      " 30%|███████████████████▌                                             | 18/60 [00:58<02:04,  2.97s/it][Parallel(n_jobs=16)]: Using backend ThreadingBackend with 16 concurrent workers.\n",
      "[Parallel(n_jobs=16)]: Done  18 tasks      | elapsed:    0.3s\n",
      "[Parallel(n_jobs=16)]: Done 100 out of 100 | elapsed:    1.1s finished\n",
      " 32%|████████████████████▌                                            | 19/60 [01:01<02:00,  2.95s/it][Parallel(n_jobs=16)]: Using backend ThreadingBackend with 16 concurrent workers.\n",
      "[Parallel(n_jobs=16)]: Done  18 tasks      | elapsed:    0.2s\n",
      "[Parallel(n_jobs=16)]: Done 100 out of 100 | elapsed:    0.6s finished\n",
      " 33%|█████████████████████▋                                           | 20/60 [01:03<01:46,  2.66s/it][Parallel(n_jobs=16)]: Using backend ThreadingBackend with 16 concurrent workers.\n",
      "[Parallel(n_jobs=16)]: Done  18 tasks      | elapsed:    0.2s\n",
      "[Parallel(n_jobs=16)]: Done 100 out of 100 | elapsed:    0.7s finished\n",
      " 35%|██████████████████████▊                                          | 21/60 [01:05<01:37,  2.49s/it][Parallel(n_jobs=16)]: Using backend ThreadingBackend with 16 concurrent workers.\n",
      "[Parallel(n_jobs=16)]: Done  18 tasks      | elapsed:    0.3s\n",
      "[Parallel(n_jobs=16)]: Done 100 out of 100 | elapsed:    1.2s finished\n",
      " 37%|███████████████████████▊                                         | 22/60 [01:08<01:35,  2.52s/it][Parallel(n_jobs=16)]: Using backend ThreadingBackend with 16 concurrent workers.\n",
      "[Parallel(n_jobs=16)]: Done  18 tasks      | elapsed:    0.3s\n",
      "[Parallel(n_jobs=16)]: Done 100 out of 100 | elapsed:    1.0s finished\n",
      " 38%|████████████████████████▉                                        | 23/60 [01:10<01:31,  2.49s/it][Parallel(n_jobs=16)]: Using backend ThreadingBackend with 16 concurrent workers.\n",
      "[Parallel(n_jobs=16)]: Done  18 tasks      | elapsed:    0.2s\n",
      "[Parallel(n_jobs=16)]: Done 100 out of 100 | elapsed:    0.9s finished\n",
      " 40%|██████████████████████████                                       | 24/60 [01:13<01:26,  2.41s/it][Parallel(n_jobs=16)]: Using backend ThreadingBackend with 16 concurrent workers.\n",
      "[Parallel(n_jobs=16)]: Done  18 tasks      | elapsed:    0.4s\n",
      "[Parallel(n_jobs=16)]: Done 100 out of 100 | elapsed:    1.2s finished\n",
      " 42%|███████████████████████████                                      | 25/60 [01:16<01:31,  2.60s/it][Parallel(n_jobs=16)]: Using backend ThreadingBackend with 16 concurrent workers.\n",
      "[Parallel(n_jobs=16)]: Done  18 tasks      | elapsed:    0.3s\n",
      "[Parallel(n_jobs=16)]: Done 100 out of 100 | elapsed:    0.9s finished\n"
     ]
    },
    {
     "name": "stderr",
     "output_type": "stream",
     "text": [
      " 43%|████████████████████████████▏                                    | 26/60 [01:18<01:24,  2.50s/it][Parallel(n_jobs=16)]: Using backend ThreadingBackend with 16 concurrent workers.\n",
      "[Parallel(n_jobs=16)]: Done  18 tasks      | elapsed:    0.5s\n",
      "[Parallel(n_jobs=16)]: Done 100 out of 100 | elapsed:    1.6s finished\n",
      " 45%|█████████████████████████████▎                                   | 27/60 [01:21<01:31,  2.76s/it][Parallel(n_jobs=16)]: Using backend ThreadingBackend with 16 concurrent workers.\n",
      "[Parallel(n_jobs=16)]: Done  18 tasks      | elapsed:    0.2s\n",
      "[Parallel(n_jobs=16)]: Done 100 out of 100 | elapsed:    0.9s finished\n",
      " 47%|██████████████████████████████▎                                  | 28/60 [01:24<01:27,  2.74s/it][Parallel(n_jobs=16)]: Using backend ThreadingBackend with 16 concurrent workers.\n",
      "[Parallel(n_jobs=16)]: Done  18 tasks      | elapsed:    0.2s\n",
      "[Parallel(n_jobs=16)]: Done 100 out of 100 | elapsed:    0.8s finished\n",
      " 48%|███████████████████████████████▍                                 | 29/60 [01:26<01:19,  2.56s/it][Parallel(n_jobs=16)]: Using backend ThreadingBackend with 16 concurrent workers.\n",
      "[Parallel(n_jobs=16)]: Done  18 tasks      | elapsed:    0.3s\n",
      "[Parallel(n_jobs=16)]: Done 100 out of 100 | elapsed:    0.9s finished\n",
      " 50%|████████████████████████████████▌                                | 30/60 [01:29<01:18,  2.63s/it][Parallel(n_jobs=16)]: Using backend ThreadingBackend with 16 concurrent workers.\n",
      "[Parallel(n_jobs=16)]: Done  18 tasks      | elapsed:    0.3s\n",
      "[Parallel(n_jobs=16)]: Done 100 out of 100 | elapsed:    1.2s finished\n",
      " 52%|█████████████████████████████████▌                               | 31/60 [01:32<01:16,  2.65s/it][Parallel(n_jobs=16)]: Using backend ThreadingBackend with 16 concurrent workers.\n",
      "[Parallel(n_jobs=16)]: Done  18 tasks      | elapsed:    0.3s\n",
      "[Parallel(n_jobs=16)]: Done 100 out of 100 | elapsed:    0.9s finished\n",
      " 53%|██████████████████████████████████▋                              | 32/60 [01:34<01:12,  2.58s/it][Parallel(n_jobs=16)]: Using backend ThreadingBackend with 16 concurrent workers.\n",
      "[Parallel(n_jobs=16)]: Done  18 tasks      | elapsed:    0.3s\n",
      "[Parallel(n_jobs=16)]: Done 100 out of 100 | elapsed:    0.9s finished\n",
      " 55%|███████████████████████████████████▊                             | 33/60 [01:37<01:09,  2.59s/it][Parallel(n_jobs=16)]: Using backend ThreadingBackend with 16 concurrent workers.\n",
      "[Parallel(n_jobs=16)]: Done  18 tasks      | elapsed:    0.2s\n",
      "[Parallel(n_jobs=16)]: Done 100 out of 100 | elapsed:    0.7s finished\n",
      " 57%|████████████████████████████████████▊                            | 34/60 [01:39<01:06,  2.54s/it][Parallel(n_jobs=16)]: Using backend ThreadingBackend with 16 concurrent workers.\n",
      "[Parallel(n_jobs=16)]: Done  18 tasks      | elapsed:    0.3s\n",
      "[Parallel(n_jobs=16)]: Done 100 out of 100 | elapsed:    1.0s finished\n",
      " 58%|█████████████████████████████████████▉                           | 35/60 [01:42<01:04,  2.59s/it][Parallel(n_jobs=16)]: Using backend ThreadingBackend with 16 concurrent workers.\n",
      "[Parallel(n_jobs=16)]: Done  18 tasks      | elapsed:    0.5s\n",
      "[Parallel(n_jobs=16)]: Done 100 out of 100 | elapsed:    1.9s finished\n",
      " 60%|███████████████████████████████████████                          | 36/60 [01:46<01:10,  2.92s/it][Parallel(n_jobs=16)]: Using backend ThreadingBackend with 16 concurrent workers.\n",
      "[Parallel(n_jobs=16)]: Done  18 tasks      | elapsed:    0.3s\n",
      "[Parallel(n_jobs=16)]: Done 100 out of 100 | elapsed:    0.9s finished\n",
      " 62%|████████████████████████████████████████                         | 37/60 [01:48<01:05,  2.87s/it][Parallel(n_jobs=16)]: Using backend ThreadingBackend with 16 concurrent workers.\n",
      "[Parallel(n_jobs=16)]: Done  18 tasks      | elapsed:    0.3s\n",
      "[Parallel(n_jobs=16)]: Done 100 out of 100 | elapsed:    1.0s finished\n",
      " 63%|█████████████████████████████████████████▏                       | 38/60 [01:51<01:00,  2.74s/it][Parallel(n_jobs=16)]: Using backend ThreadingBackend with 16 concurrent workers.\n",
      "[Parallel(n_jobs=16)]: Done  18 tasks      | elapsed:    0.2s\n",
      "[Parallel(n_jobs=16)]: Done 100 out of 100 | elapsed:    0.7s finished\n",
      " 65%|██████████████████████████████████████████▎                      | 39/60 [01:53<00:54,  2.60s/it][Parallel(n_jobs=16)]: Using backend ThreadingBackend with 16 concurrent workers.\n",
      "[Parallel(n_jobs=16)]: Done  18 tasks      | elapsed:    0.2s\n",
      "[Parallel(n_jobs=16)]: Done 100 out of 100 | elapsed:    0.8s finished\n",
      " 67%|███████████████████████████████████████████▎                     | 40/60 [01:55<00:49,  2.49s/it][Parallel(n_jobs=16)]: Using backend ThreadingBackend with 16 concurrent workers.\n",
      "[Parallel(n_jobs=16)]: Done  18 tasks      | elapsed:    0.3s\n",
      "[Parallel(n_jobs=16)]: Done 100 out of 100 | elapsed:    1.0s finished\n",
      " 68%|████████████████████████████████████████████▍                    | 41/60 [01:58<00:47,  2.49s/it][Parallel(n_jobs=16)]: Using backend ThreadingBackend with 16 concurrent workers.\n",
      "[Parallel(n_jobs=16)]: Done  18 tasks      | elapsed:    0.3s\n",
      "[Parallel(n_jobs=16)]: Done 100 out of 100 | elapsed:    1.0s finished\n",
      " 70%|█████████████████████████████████████████████▌                   | 42/60 [02:01<00:46,  2.59s/it][Parallel(n_jobs=16)]: Using backend ThreadingBackend with 16 concurrent workers.\n",
      "[Parallel(n_jobs=16)]: Done  18 tasks      | elapsed:    0.2s\n",
      "[Parallel(n_jobs=16)]: Done 100 out of 100 | elapsed:    0.8s finished\n",
      " 72%|██████████████████████████████████████████████▌                  | 43/60 [02:03<00:44,  2.59s/it][Parallel(n_jobs=16)]: Using backend ThreadingBackend with 16 concurrent workers.\n",
      "[Parallel(n_jobs=16)]: Done  18 tasks      | elapsed:    0.2s\n",
      "[Parallel(n_jobs=16)]: Done 100 out of 100 | elapsed:    0.8s finished\n",
      " 73%|███████████████████████████████████████████████▋                 | 44/60 [02:05<00:39,  2.49s/it][Parallel(n_jobs=16)]: Using backend ThreadingBackend with 16 concurrent workers.\n",
      "[Parallel(n_jobs=16)]: Done  18 tasks      | elapsed:    0.4s\n",
      "[Parallel(n_jobs=16)]: Done 100 out of 100 | elapsed:    1.5s finished\n",
      " 75%|████████████████████████████████████████████████▊                | 45/60 [02:09<00:40,  2.73s/it][Parallel(n_jobs=16)]: Using backend ThreadingBackend with 16 concurrent workers.\n",
      "[Parallel(n_jobs=16)]: Done  18 tasks      | elapsed:    0.2s\n",
      "[Parallel(n_jobs=16)]: Done 100 out of 100 | elapsed:    0.6s finished\n",
      " 77%|█████████████████████████████████████████████████▊               | 46/60 [02:11<00:35,  2.55s/it][Parallel(n_jobs=16)]: Using backend ThreadingBackend with 16 concurrent workers.\n",
      "[Parallel(n_jobs=16)]: Done  18 tasks      | elapsed:    0.2s\n",
      "[Parallel(n_jobs=16)]: Done 100 out of 100 | elapsed:    0.7s finished\n",
      " 78%|██████████████████████████████████████████████████▉              | 47/60 [02:13<00:32,  2.48s/it][Parallel(n_jobs=16)]: Using backend ThreadingBackend with 16 concurrent workers.\n",
      "[Parallel(n_jobs=16)]: Done  18 tasks      | elapsed:    0.3s\n",
      "[Parallel(n_jobs=16)]: Done 100 out of 100 | elapsed:    1.1s finished\n",
      " 80%|████████████████████████████████████████████████████             | 48/60 [02:16<00:31,  2.61s/it][Parallel(n_jobs=16)]: Using backend ThreadingBackend with 16 concurrent workers.\n",
      "[Parallel(n_jobs=16)]: Done  18 tasks      | elapsed:    0.2s\n",
      "[Parallel(n_jobs=16)]: Done 100 out of 100 | elapsed:    0.8s finished\n",
      " 82%|█████████████████████████████████████████████████████            | 49/60 [02:19<00:28,  2.61s/it][Parallel(n_jobs=16)]: Using backend ThreadingBackend with 16 concurrent workers.\n",
      "[Parallel(n_jobs=16)]: Done  18 tasks      | elapsed:    0.3s\n",
      "[Parallel(n_jobs=16)]: Done 100 out of 100 | elapsed:    1.2s finished\n",
      " 83%|██████████████████████████████████████████████████████▏          | 50/60 [02:22<00:27,  2.74s/it][Parallel(n_jobs=16)]: Using backend ThreadingBackend with 16 concurrent workers.\n",
      "[Parallel(n_jobs=16)]: Done  18 tasks      | elapsed:    0.3s\n",
      "[Parallel(n_jobs=16)]: Done 100 out of 100 | elapsed:    1.0s finished\n",
      " 85%|███████████████████████████████████████████████████████▎         | 51/60 [02:25<00:24,  2.77s/it][Parallel(n_jobs=16)]: Using backend ThreadingBackend with 16 concurrent workers.\n",
      "[Parallel(n_jobs=16)]: Done  18 tasks      | elapsed:    0.3s\n",
      "[Parallel(n_jobs=16)]: Done 100 out of 100 | elapsed:    1.2s finished\n"
     ]
    },
    {
     "name": "stderr",
     "output_type": "stream",
     "text": [
      " 87%|████████████████████████████████████████████████████████▎        | 52/60 [02:28<00:22,  2.84s/it][Parallel(n_jobs=16)]: Using backend ThreadingBackend with 16 concurrent workers.\n",
      "[Parallel(n_jobs=16)]: Done  18 tasks      | elapsed:    0.4s\n",
      "[Parallel(n_jobs=16)]: Done 100 out of 100 | elapsed:    1.2s finished\n",
      " 88%|█████████████████████████████████████████████████████████▍       | 53/60 [02:31<00:20,  2.90s/it][Parallel(n_jobs=16)]: Using backend ThreadingBackend with 16 concurrent workers.\n",
      "[Parallel(n_jobs=16)]: Done  18 tasks      | elapsed:    0.3s\n",
      "[Parallel(n_jobs=16)]: Done 100 out of 100 | elapsed:    1.2s finished\n",
      " 90%|██████████████████████████████████████████████████████████▌      | 54/60 [02:34<00:17,  2.93s/it][Parallel(n_jobs=16)]: Using backend ThreadingBackend with 16 concurrent workers.\n",
      "[Parallel(n_jobs=16)]: Done  18 tasks      | elapsed:    0.5s\n",
      "[Parallel(n_jobs=16)]: Done 100 out of 100 | elapsed:    1.7s finished\n",
      " 92%|███████████████████████████████████████████████████████████▌     | 55/60 [02:37<00:15,  3.10s/it][Parallel(n_jobs=16)]: Using backend ThreadingBackend with 16 concurrent workers.\n",
      "[Parallel(n_jobs=16)]: Done  18 tasks      | elapsed:    0.2s\n",
      "[Parallel(n_jobs=16)]: Done 100 out of 100 | elapsed:    0.7s finished\n",
      " 93%|████████████████████████████████████████████████████████████▋    | 56/60 [02:40<00:11,  2.93s/it][Parallel(n_jobs=16)]: Using backend ThreadingBackend with 16 concurrent workers.\n",
      "[Parallel(n_jobs=16)]: Done  18 tasks      | elapsed:    0.3s\n",
      "[Parallel(n_jobs=16)]: Done 100 out of 100 | elapsed:    1.0s finished\n",
      " 95%|█████████████████████████████████████████████████████████████▊   | 57/60 [02:42<00:08,  2.89s/it][Parallel(n_jobs=16)]: Using backend ThreadingBackend with 16 concurrent workers.\n",
      "[Parallel(n_jobs=16)]: Done  18 tasks      | elapsed:    0.3s\n",
      "[Parallel(n_jobs=16)]: Done 100 out of 100 | elapsed:    1.0s finished\n",
      " 97%|██████████████████████████████████████████████████████████████▊  | 58/60 [02:45<00:05,  2.85s/it][Parallel(n_jobs=16)]: Using backend ThreadingBackend with 16 concurrent workers.\n",
      "[Parallel(n_jobs=16)]: Done  18 tasks      | elapsed:    0.3s\n",
      "[Parallel(n_jobs=16)]: Done 100 out of 100 | elapsed:    1.0s finished\n",
      " 98%|███████████████████████████████████████████████████████████████▉ | 59/60 [02:48<00:02,  2.84s/it][Parallel(n_jobs=16)]: Using backend ThreadingBackend with 16 concurrent workers.\n",
      "[Parallel(n_jobs=16)]: Done  18 tasks      | elapsed:    0.3s\n",
      "[Parallel(n_jobs=16)]: Done 100 out of 100 | elapsed:    1.1s finished\n",
      "100%|█████████████████████████████████████████████████████████████████| 60/60 [02:51<00:00,  2.86s/it]\n"
     ]
    }
   ],
   "source": [
    "test_predict(classifier, dataset, test_tiles, mode=MODE)"
   ]
  },
  {
   "cell_type": "code",
   "execution_count": null,
   "id": "a1d17b3a",
   "metadata": {},
   "outputs": [],
   "source": []
  }
 ],
 "metadata": {
  "kernelspec": {
   "display_name": "Python 3.8.10 64-bit",
   "language": "python",
   "name": "python3"
  },
  "language_info": {
   "codemirror_mode": {
    "name": "ipython",
    "version": 3
   },
   "file_extension": ".py",
   "mimetype": "text/x-python",
   "name": "python",
   "nbconvert_exporter": "python",
   "pygments_lexer": "ipython3",
   "version": "3.8.10"
  },
  "vscode": {
   "interpreter": {
    "hash": "916dbcbb3f70747c44a77c7bcd40155683ae19c65e1c03b4aa3499c5328201f1"
   }
  }
 },
 "nbformat": 4,
 "nbformat_minor": 5
}
